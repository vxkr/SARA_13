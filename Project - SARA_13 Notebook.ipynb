{
 "cells": [
  {
   "cell_type": "markdown",
   "metadata": {},
   "source": [
    "# Final Project - Checkpoint 1\n",
    "## SARA_13\n",
    "### Aman Thakur\n",
    "### Sumiran Singh\n",
    "### Atrey Khoche\n",
    "### Vyom Thakkar"
   ]
  },
  {
   "cell_type": "markdown",
   "metadata": {},
   "source": [
    "## SPAdes Assembly\n",
    "\n",
    "### Input\n",
    "```spades.py -o ../../../home/5440611/bioe131/FinalProject -1 ./SARA_13_S36_L004_R1_001.fastq.gz -2 ./SARA_13_S36_L004_R2_001.fastq.gz -t 1```\n",
    "\n",
    "### Output\n",
    "```\n",
    "===== Assembling finished. Used k-mer sizes: 21, 33, 55 \n",
    "\n",
    " * Corrected reads are in /home/5440611/bioe131/FinalProject/corrected/\n",
    " * Assembled contigs are in /home/5440611/bioe131/FinalProject/contigs.fasta\n",
    " * Assembled scaffolds are in /home/5440611/bioe131/FinalProject/scaffolds.fasta\n",
    " * Paths in the assembly graph corresponding to the contigs are in /home/5440611/bioe131/FinalProject/contigs.paths\n",
    " * Paths in the assembly graph corresponding to the scaffolds are in /home/5440611/bioe131/FinalProject/scaffolds.paths\n",
    " * Assembly graph is in /home/5440611/bioe131/FinalProject/assembly_graph.fastg\n",
    " * Assembly graph in GFA format is in /home/5440611/bioe131/FinalProject/assembly_graph_with_scaffolds.gfa\n",
    "\n",
    "======= SPAdes pipeline finished.\n",
    "```"
   ]
  },
  {
   "cell_type": "markdown",
   "metadata": {},
   "source": [
    "## Running assembly-stats\n",
    "\n",
    "### Input\n",
    "`assembly-stats contigs.fasta scaffolds.fasta`\n",
    "\n",
    "### Output\n",
    "```\n",
    "stats for contigs.fasta\n",
    "sum = 4936435, n = 434, ave = 11374.27, largest = 344672\n",
    "N50 = 178051, n = 10\n",
    "N60 = 142813, n = 14\n",
    "N70 = 90461, n = 18\n",
    "N80 = 61746, n = 24\n",
    "N90 = 47039, n = 33\n",
    "N100 = 56, n = 434\n",
    "N_count = 0\n",
    "Gaps = 0\n",
    "-------------------------------------------------------------------------------\n",
    "stats for scaffolds.fasta\n",
    "sum = 4936976, n = 428, ave = 11534.99, largest = 403204\n",
    "N50 = 178051, n = 10\n",
    "N60 = 149228, n = 13\n",
    "N70 = 142813, n = 16\n",
    "N80 = 81294, n = 21\n",
    "N90 = 47039, n = 29\n",
    "N100 = 56, n = 428\n",
    "N_count = 600\n",
    "Gaps = 6\n",
    "```\n",
    "\n",
    "### Analysis of contigs\n",
    "##### N50: 178051\n",
    "##### Total number of contigs: 434\n",
    "##### Total length: 4936435\n",
    "\n",
    "\n",
    "### Analysis of scaffolds\n",
    "##### N50: 178051\n",
    "##### Total number of contigs: 428\n",
    "##### Total length: 4936976"
   ]
  },
  {
   "cell_type": "markdown",
   "metadata": {},
   "source": [
    "## Histogram of Contig Coverage"
   ]
  },
  {
   "cell_type": "code",
   "execution_count": 1,
   "metadata": {},
   "outputs": [],
   "source": [
    "import numpy as np\n",
    "import matplotlib.pyplot as plt\n",
    "import pandas as pd"
   ]
  },
  {
   "cell_type": "code",
   "execution_count": 2,
   "metadata": {},
   "outputs": [
    {
     "data": {
      "image/png": "[encoded data removed]",
      "text/plain": [
       "<Figure size 864x504 with 1 Axes>"
      ]
     },
     "metadata": {
      "needs_background": "light"
     },
     "output_type": "display_data"
    }
   ],
   "source": [
    "coverage_table = pd.read_csv('coverage.txt', header=None)\n",
    "coverage_table.hist(column=0, bins=100, figsize=(12,7))\n",
    "plt.xlabel('Coverage')\n",
    "plt.ylabel('Count')\n",
    "plt.title('Coverage for Contigs in Assembly')\n",
    "plt.show()"
   ]
  },
  {
   "cell_type": "markdown",
   "metadata": {},
   "source": [
    "### Average coverage length: 5455.782089525345"
   ]
  },
  {
   "cell_type": "code",
   "execution_count": 3,
   "metadata": {},
   "outputs": [
    {
     "data": {
      "text/plain": [
       "5455.782089525345"
      ]
     },
     "execution_count": 3,
     "metadata": {},
     "output_type": "execute_result"
    }
   ],
   "source": [
    "np.average(coverage_table[0])"
   ]
  },
  {
   "cell_type": "markdown",
   "metadata": {},
   "source": [
    "The coverage looks bimodal, with one peak around 0 and one around 10000.\n",
    "\n",
    "The coverage isn't uniform and could be gaussian, but isn't a great fit to a sum of gaussians."
   ]
  },
  {
   "cell_type": "markdown",
   "metadata": {},
   "source": [
    "## Locating 16s ribosomal RNA subunit (16s rRNA) genes\n",
    "\n",
    "### Input\n",
    "`rna_hmm3.py -i contigs.fasta -o ./output.GFF -L ./HMM3`\n",
    "\n",
    "### Output\n",
    "Outputted the 'output.GFF' file which I then modified to only contain information regarding 16s rRNA genes"
   ]
  },
  {
   "cell_type": "markdown",
   "metadata": {},
   "source": [
    "## Extracting the nucleic acid sequence of 16s rRNA genes\n",
    "\n",
    "### Input\n",
    "`bedtools getfasta -fi ./contigs.fasta -bed ./output.GFF`\n",
    "\n",
    "### Ouput\n",
    "A FASTA sequence that I wrote to 'rRNA.fasta'.\n",
    "\n",
    "## Running ribosomal RNA through SeqMatch\n",
    "\n",
    "### Observations\n",
    "It appears that this gene belongs to the species 'Salmonella enterica'. I came to this conclusion through the use of SeqMatch. The species estimate comes from the S_ab score that is calculated by SeqMatch for multiple species. 'Salmonella enterica' is a match for our strain."
   ]
  },
  {
   "cell_type": "markdown",
   "metadata": {},
   "source": [
    "## Genome Annotation\n",
    "So far, we were only able to obtain the RAST annotations. Beyond the regular housekeeping genes, the major components of the annotated sequence are the genes that help with infection and genes that prevent degradation/attacks. The Phage portal (connector) protein gene likely helps the bacteria attach to a host cell. The penicillin-insensitive murein endopeptidase allows the bacteria to function even in the presence of penicillin, a powerful antibiotic. The phage packaged DNA stabilization protein might protect the bacteria against viruses. Finally, the Cold Shock protein might offer some resistance when subjugated to cold environments. Overall, this annotated genome provides a great benchmark into the possible functions of a Salmonella bacteria, but an RNA seq would allow us to go even further into understanding how the bacteria actually operates.  "
   ]
  }
 ],
 "metadata": {
  "kernelspec": {
   "display_name": "Python 3",
   "language": "python",
   "name": "python3"
  },
  "language_info": {
   "codemirror_mode": {
    "name": "ipython",
    "version": 3
   },
   "file_extension": ".py",
   "mimetype": "text/x-python",
   "name": "python",
   "nbconvert_exporter": "python",
   "pygments_lexer": "ipython3",
   "version": "3.7.3"
  }
 },
 "nbformat": 4,
 "nbformat_minor": 2
}
